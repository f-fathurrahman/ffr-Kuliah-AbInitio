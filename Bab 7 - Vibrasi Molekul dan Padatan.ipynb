{
 "cells": [
  {
   "cell_type": "markdown",
   "metadata": {},
   "source": [
    "Vibrasi molekul dan padatan"
   ]
  },
  {
   "cell_type": "markdown",
   "metadata": {},
   "source": [
    "Pada bab-bab sebelumnya:\n",
    "- perhitungan struktur ekuilibrium dari material dengan menggunakan DFT\n",
    "- deformasi statik\n",
    "\n",
    "Pada bab ini:\n",
    "- deformasi dinamik: **vibrasi atomik**\n",
    "\n",
    "Vibrasi atomik penting diperhitungkan dalam beberapa sifat material:\n",
    "- konduktivitas termal\n",
    "- ekspansi termal\n",
    "- resistivitas elektrik\n",
    "- kapasitas kalor\n",
    "- absorpsi optik\n",
    "- superkonduktivitas\n",
    "- daya termal (*thermopower*)\n",
    "- transisi fasa struktural"
   ]
  },
  {
   "cell_type": "code",
   "execution_count": null,
   "metadata": {
    "collapsed": true
   },
   "outputs": [],
   "source": []
  }
 ],
 "metadata": {
  "kernelspec": {
   "display_name": "Python 3",
   "language": "python",
   "name": "python3"
  },
  "language_info": {
   "codemirror_mode": {
    "name": "ipython",
    "version": 3
   },
   "file_extension": ".py",
   "mimetype": "text/x-python",
   "name": "python",
   "nbconvert_exporter": "python",
   "pygments_lexer": "ipython3",
   "version": "3.6.1"
  }
 },
 "nbformat": 4,
 "nbformat_minor": 2
}
